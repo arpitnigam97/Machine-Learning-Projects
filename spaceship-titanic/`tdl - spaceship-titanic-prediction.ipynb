{
 "cells": [
  {
   "cell_type": "code",
   "execution_count": 1,
   "id": "670256c8",
   "metadata": {
    "_cell_guid": "b1076dfc-b9ad-4769-8c92-a6c4dae69d19",
    "_uuid": "8f2839f25d086af736a60e9eeb907d3b93b6e0e5",
    "execution": {
     "iopub.execute_input": "2022-10-17T14:37:21.242898Z",
     "iopub.status.busy": "2022-10-17T14:37:21.242145Z",
     "iopub.status.idle": "2022-10-17T14:37:21.255376Z",
     "shell.execute_reply": "2022-10-17T14:37:21.254206Z"
    },
    "papermill": {
     "duration": 0.030659,
     "end_time": "2022-10-17T14:37:21.258314",
     "exception": false,
     "start_time": "2022-10-17T14:37:21.227655",
     "status": "completed"
    },
    "tags": []
   },
   "outputs": [
    {
     "name": "stdout",
     "output_type": "stream",
     "text": [
      "/kaggle/input/spaceship-titanic/sample_submission.csv\n",
      "/kaggle/input/spaceship-titanic/train.csv\n",
      "/kaggle/input/spaceship-titanic/test.csv\n"
     ]
    }
   ],
   "source": [
    "# This Python 3 environment comes with many helpful analytics libraries installed\n",
    "# It is defined by the kaggle/python Docker image: https://github.com/kaggle/docker-python\n",
    "# For example, here's several helpful packages to load\n",
    "\n",
    "import numpy as np # linear algebra\n",
    "import pandas as pd # data processing, CSV file I/O (e.g. pd.read_csv)\n",
    "\n",
    "# Input data files are available in the read-only \"../input/\" directory\n",
    "# For example, running this (by clicking run or pressing Shift+Enter) will list all files under the input directory\n",
    "\n",
    "import os\n",
    "for dirname, _, filenames in os.walk('/kaggle/input'):\n",
    "    for filename in filenames:\n",
    "        print(os.path.join(dirname, filename))\n",
    "\n",
    "# You can write up to 20GB to the current directory (/kaggle/working/) that gets preserved as output when you create a version using \"Save & Run All\" \n",
    "# You can also write temporary files to /kaggle/temp/, but they won't be saved outside of the current session"
   ]
  },
  {
   "cell_type": "code",
   "execution_count": 2,
   "id": "dd45274c",
   "metadata": {
    "execution": {
     "iopub.execute_input": "2022-10-17T14:37:21.283179Z",
     "iopub.status.busy": "2022-10-17T14:37:21.282383Z",
     "iopub.status.idle": "2022-10-17T14:37:23.647638Z",
     "shell.execute_reply": "2022-10-17T14:37:23.646177Z"
    },
    "papermill": {
     "duration": 2.381464,
     "end_time": "2022-10-17T14:37:23.651185",
     "exception": false,
     "start_time": "2022-10-17T14:37:21.269721",
     "status": "completed"
    },
    "tags": []
   },
   "outputs": [
    {
     "name": "stderr",
     "output_type": "stream",
     "text": [
      "[nltk_data] Downloading package names to /usr/share/nltk_data...\n",
      "[nltk_data]   Package names is already up-to-date!\n"
     ]
    }
   ],
   "source": [
    "import numpy as np\n",
    "import pandas as pd\n",
    "import seaborn as sns\n",
    "from scipy import stats\n",
    "import matplotlib\n",
    "import matplotlib.pyplot as plt\n",
    "import missingno as msno\n",
    "%matplotlib inline\n",
    "\n",
    "import random\n",
    "from nltk.corpus import names\n",
    "import nltk\n",
    "nltk.download(\"names\")\n",
    "from nltk import NaiveBayesClassifier\n",
    "\n",
    "from sklearn.model_selection import train_test_split, GridSearchCV, cross_val_score\n",
    "from sklearn.metrics import confusion_matrix, accuracy_score, classification_report\n",
    "from sklearn.metrics import roc_auc_score,roc_curve\n",
    "from sklearn.metrics import plot_confusion_matrix\n",
    "from sklearn.preprocessing import StandardScaler, MinMaxScaler\n",
    "from sklearn.preprocessing import LabelEncoder\n",
    "from collections import Counter\n",
    "\n",
    "\n",
    "from sklearn.tree import DecisionTreeClassifier\n",
    "from sklearn.ensemble import RandomForestClassifier\n",
    "from sklearn.neighbors import KNeighborsClassifier\n",
    "from sklearn.svm import SVC\n",
    "from sklearn.neural_network import MLPClassifier\n",
    "from xgboost import XGBClassifier\n",
    "\n",
    "matplotlib.rc(\"xtick\", labelsize = 14) \n",
    "matplotlib.rc(\"ytick\", labelsize = 14)\n",
    "\n",
    "from sklearn import set_config\n",
    "set_config(print_changed_only = False)\n",
    "\n",
    "import warnings\n",
    "warnings.filterwarnings('ignore')"
   ]
  },
  {
   "cell_type": "code",
   "execution_count": 3,
   "id": "b634ec67",
   "metadata": {
    "execution": {
     "iopub.execute_input": "2022-10-17T14:37:23.679255Z",
     "iopub.status.busy": "2022-10-17T14:37:23.677915Z",
     "iopub.status.idle": "2022-10-17T14:37:23.762406Z",
     "shell.execute_reply": "2022-10-17T14:37:23.761429Z"
    },
    "papermill": {
     "duration": 0.102213,
     "end_time": "2022-10-17T14:37:23.765096",
     "exception": false,
     "start_time": "2022-10-17T14:37:23.662883",
     "status": "completed"
    },
    "tags": []
   },
   "outputs": [],
   "source": [
    "train_data = pd.read_csv(\"../input/spaceship-titanic/train.csv\")\n",
    "test_data = pd.read_csv(\"../input/spaceship-titanic/test.csv\")"
   ]
  },
  {
   "cell_type": "code",
   "execution_count": 4,
   "id": "32374efe",
   "metadata": {
    "execution": {
     "iopub.execute_input": "2022-10-17T14:37:23.790135Z",
     "iopub.status.busy": "2022-10-17T14:37:23.789037Z",
     "iopub.status.idle": "2022-10-17T14:37:23.802759Z",
     "shell.execute_reply": "2022-10-17T14:37:23.801894Z"
    },
    "papermill": {
     "duration": 0.0286,
     "end_time": "2022-10-17T14:37:23.804948",
     "exception": false,
     "start_time": "2022-10-17T14:37:23.776348",
     "status": "completed"
    },
    "tags": []
   },
   "outputs": [],
   "source": [
    "datasets = [train_data, test_data]\n",
    "for data in datasets:\n",
    "    data.rename(columns = {\"PassengerId\" : \"id\", \"HomePlanet\" : \"home_planet\", \n",
    "                   \"CryoSleep\" : \"cryo_sleep\", \"Cabin\" : \"cabin\", \n",
    "                   \"Destination\" : \"destination\", \"Age\" : \"age\",\n",
    "                   \"VIP\" : \"vip\", \"RoomService\" : \"room_service\",\n",
    "                   \"FoodCourt\" : \"food_court\", \"ShoppingMall\" : \"shopping_mall\",\n",
    "                   \"Spa\" : \"spa\", \"VRDeck\" : \"vr_deck\", \"Name\" : \"name\",\n",
    "                   \"Transported\" : \"transported\"}, inplace = True)"
   ]
  },
  {
   "cell_type": "code",
   "execution_count": 5,
   "id": "38c144e0",
   "metadata": {
    "execution": {
     "iopub.execute_input": "2022-10-17T14:37:23.829470Z",
     "iopub.status.busy": "2022-10-17T14:37:23.828972Z",
     "iopub.status.idle": "2022-10-17T14:37:23.846506Z",
     "shell.execute_reply": "2022-10-17T14:37:23.845544Z"
    },
    "papermill": {
     "duration": 0.032785,
     "end_time": "2022-10-17T14:37:23.848929",
     "exception": false,
     "start_time": "2022-10-17T14:37:23.816144",
     "status": "completed"
    },
    "tags": []
   },
   "outputs": [],
   "source": [
    "train_data[\"transported\"] = train_data[\"transported\"].replace(to_replace = [False, True], \n",
    "                                  value = [\"No\", \"Yes\"])\n",
    "train_data[\"vip\"] = train_data[\"vip\"].replace(to_replace = [False, True], \n",
    "                                  value = [\"No\", \"Yes\"]).astype(\"object\")\n",
    "train_data[\"cryo_sleep\"] = train_data[\"cryo_sleep\"].replace(to_replace = [False, True], \n",
    "                                  value = [\"No\", \"Yes\"]).astype(\"object\")"
   ]
  },
  {
   "cell_type": "code",
   "execution_count": 6,
   "id": "86d44420",
   "metadata": {
    "execution": {
     "iopub.execute_input": "2022-10-17T14:37:23.873055Z",
     "iopub.status.busy": "2022-10-17T14:37:23.872654Z",
     "iopub.status.idle": "2022-10-17T14:37:23.879046Z",
     "shell.execute_reply": "2022-10-17T14:37:23.877932Z"
    },
    "papermill": {
     "duration": 0.021258,
     "end_time": "2022-10-17T14:37:23.881514",
     "exception": false,
     "start_time": "2022-10-17T14:37:23.860256",
     "status": "completed"
    },
    "tags": []
   },
   "outputs": [
    {
     "name": "stdout",
     "output_type": "stream",
     "text": [
      "The number of rows in train data is 8693, and the number of columns in train data is 14\n",
      "The number of rows in test data is 4277, and the number of columns in test data is 13\n"
     ]
    }
   ],
   "source": [
    "print(\"The number of rows in train data is {0}, and the number of columns in train data is {1}\".\n",
    "      format(train_data.shape[0], train_data.shape[1]))\n",
    "      \n",
    "print(\"The number of rows in test data is {0}, and the number of columns in test data is {1}\".\n",
    "      format(test_data.shape[0], test_data.shape[1]))"
   ]
  },
  {
   "cell_type": "code",
   "execution_count": 7,
   "id": "b6f27a5e",
   "metadata": {
    "execution": {
     "iopub.execute_input": "2022-10-17T14:37:23.905604Z",
     "iopub.status.busy": "2022-10-17T14:37:23.905196Z",
     "iopub.status.idle": "2022-10-17T14:37:23.929488Z",
     "shell.execute_reply": "2022-10-17T14:37:23.928074Z"
    },
    "papermill": {
     "duration": 0.03938,
     "end_time": "2022-10-17T14:37:23.931939",
     "exception": false,
     "start_time": "2022-10-17T14:37:23.892559",
     "status": "completed"
    },
    "tags": []
   },
   "outputs": [
    {
     "name": "stdout",
     "output_type": "stream",
     "text": [
      "<class 'pandas.core.frame.DataFrame'>\n",
      "RangeIndex: 8693 entries, 0 to 8692\n",
      "Data columns (total 14 columns):\n",
      " #   Column         Non-Null Count  Dtype  \n",
      "---  ------         --------------  -----  \n",
      " 0   id             8693 non-null   object \n",
      " 1   home_planet    8492 non-null   object \n",
      " 2   cryo_sleep     8476 non-null   object \n",
      " 3   cabin          8494 non-null   object \n",
      " 4   destination    8511 non-null   object \n",
      " 5   age            8514 non-null   float64\n",
      " 6   vip            8490 non-null   object \n",
      " 7   room_service   8512 non-null   float64\n",
      " 8   food_court     8510 non-null   float64\n",
      " 9   shopping_mall  8485 non-null   float64\n",
      " 10  spa            8510 non-null   float64\n",
      " 11  vr_deck        8505 non-null   float64\n",
      " 12  name           8493 non-null   object \n",
      " 13  transported    8693 non-null   object \n",
      "dtypes: float64(6), object(8)\n",
      "memory usage: 950.9+ KB\n"
     ]
    }
   ],
   "source": [
    "train_data.info()"
   ]
  },
  {
   "cell_type": "code",
   "execution_count": 8,
   "id": "2a2a81d5",
   "metadata": {
    "execution": {
     "iopub.execute_input": "2022-10-17T14:37:23.956111Z",
     "iopub.status.busy": "2022-10-17T14:37:23.955280Z",
     "iopub.status.idle": "2022-10-17T14:37:23.972189Z",
     "shell.execute_reply": "2022-10-17T14:37:23.970673Z"
    },
    "papermill": {
     "duration": 0.031743,
     "end_time": "2022-10-17T14:37:23.974653",
     "exception": false,
     "start_time": "2022-10-17T14:37:23.942910",
     "status": "completed"
    },
    "tags": []
   },
   "outputs": [
    {
     "data": {
      "text/plain": [
       "id                 0\n",
       "home_planet      201\n",
       "cryo_sleep       217\n",
       "cabin            199\n",
       "destination      182\n",
       "age              179\n",
       "vip              203\n",
       "room_service     181\n",
       "food_court       183\n",
       "shopping_mall    208\n",
       "spa              183\n",
       "vr_deck          188\n",
       "name             200\n",
       "transported        0\n",
       "dtype: int64"
      ]
     },
     "execution_count": 8,
     "metadata": {},
     "output_type": "execute_result"
    }
   ],
   "source": [
    "train_data.isnull().sum()"
   ]
  },
  {
   "cell_type": "code",
   "execution_count": 9,
   "id": "9cd7ddba",
   "metadata": {
    "execution": {
     "iopub.execute_input": "2022-10-17T14:37:23.999436Z",
     "iopub.status.busy": "2022-10-17T14:37:23.998337Z",
     "iopub.status.idle": "2022-10-17T14:37:24.058410Z",
     "shell.execute_reply": "2022-10-17T14:37:24.057278Z"
    },
    "papermill": {
     "duration": 0.075343,
     "end_time": "2022-10-17T14:37:24.061204",
     "exception": false,
     "start_time": "2022-10-17T14:37:23.985861",
     "status": "completed"
    },
    "tags": []
   },
   "outputs": [],
   "source": [
    "numeric_data = [column for column in train_data.select_dtypes([\"int\", \"float\"])]\n",
    "categoric_data = [column for column in train_data.select_dtypes(exclude = [\"int\", \"float\"])]\n",
    "test_categoric_data = [column for column in test_data.select_dtypes(exclude = [\"int\", \"float\"])]\n",
    "\n",
    "for col in numeric_data:\n",
    "    train_data[col].fillna(train_data[col].median(), inplace = True)\n",
    "    test_data[col].fillna(test_data[col].median(), inplace = True)\n",
    "    \n",
    "#replace missing values in each categorical column with the most frequent value\n",
    "for col in categoric_data:\n",
    "    train_data[col].fillna(train_data[col].value_counts().index[0], inplace = True)\n",
    "for col in test_categoric_data:\n",
    "    test_data[col].fillna(test_data[col].value_counts().index[0], inplace = True) "
   ]
  },
  {
   "cell_type": "code",
   "execution_count": 10,
   "id": "5dacdcdd",
   "metadata": {
    "execution": {
     "iopub.execute_input": "2022-10-17T14:37:24.085874Z",
     "iopub.status.busy": "2022-10-17T14:37:24.085480Z",
     "iopub.status.idle": "2022-10-17T14:37:24.101375Z",
     "shell.execute_reply": "2022-10-17T14:37:24.100387Z"
    },
    "papermill": {
     "duration": 0.030809,
     "end_time": "2022-10-17T14:37:24.103553",
     "exception": false,
     "start_time": "2022-10-17T14:37:24.072744",
     "status": "completed"
    },
    "tags": []
   },
   "outputs": [
    {
     "data": {
      "text/plain": [
       "0"
      ]
     },
     "execution_count": 10,
     "metadata": {},
     "output_type": "execute_result"
    }
   ],
   "source": [
    "train_data.isnull().sum().sum() + test_data.isnull().sum().sum()"
   ]
  },
  {
   "cell_type": "code",
   "execution_count": 11,
   "id": "b479e266",
   "metadata": {
    "execution": {
     "iopub.execute_input": "2022-10-17T14:37:24.129181Z",
     "iopub.status.busy": "2022-10-17T14:37:24.128340Z",
     "iopub.status.idle": "2022-10-17T14:37:24.149295Z",
     "shell.execute_reply": "2022-10-17T14:37:24.148441Z"
    },
    "papermill": {
     "duration": 0.036319,
     "end_time": "2022-10-17T14:37:24.151537",
     "exception": false,
     "start_time": "2022-10-17T14:37:24.115218",
     "status": "completed"
    },
    "tags": []
   },
   "outputs": [
    {
     "data": {
      "text/html": [
       "<div>\n",
       "<style scoped>\n",
       "    .dataframe tbody tr th:only-of-type {\n",
       "        vertical-align: middle;\n",
       "    }\n",
       "\n",
       "    .dataframe tbody tr th {\n",
       "        vertical-align: top;\n",
       "    }\n",
       "\n",
       "    .dataframe thead th {\n",
       "        text-align: right;\n",
       "    }\n",
       "</style>\n",
       "<table border=\"1\" class=\"dataframe\">\n",
       "  <thead>\n",
       "    <tr style=\"text-align: right;\">\n",
       "      <th></th>\n",
       "      <th>age</th>\n",
       "      <th>room_service</th>\n",
       "      <th>food_court</th>\n",
       "      <th>shopping_mall</th>\n",
       "      <th>spa</th>\n",
       "      <th>vr_deck</th>\n",
       "    </tr>\n",
       "  </thead>\n",
       "  <tbody>\n",
       "    <tr>\n",
       "      <th>age</th>\n",
       "      <td>1.000000</td>\n",
       "      <td>0.068629</td>\n",
       "      <td>0.127390</td>\n",
       "      <td>0.033148</td>\n",
       "      <td>0.120946</td>\n",
       "      <td>0.099590</td>\n",
       "    </tr>\n",
       "    <tr>\n",
       "      <th>room_service</th>\n",
       "      <td>0.068629</td>\n",
       "      <td>1.000000</td>\n",
       "      <td>-0.015126</td>\n",
       "      <td>0.052337</td>\n",
       "      <td>0.009244</td>\n",
       "      <td>-0.018624</td>\n",
       "    </tr>\n",
       "    <tr>\n",
       "      <th>food_court</th>\n",
       "      <td>0.127390</td>\n",
       "      <td>-0.015126</td>\n",
       "      <td>1.000000</td>\n",
       "      <td>-0.013717</td>\n",
       "      <td>0.221468</td>\n",
       "      <td>0.224572</td>\n",
       "    </tr>\n",
       "    <tr>\n",
       "      <th>shopping_mall</th>\n",
       "      <td>0.033148</td>\n",
       "      <td>0.052337</td>\n",
       "      <td>-0.013717</td>\n",
       "      <td>1.000000</td>\n",
       "      <td>0.014542</td>\n",
       "      <td>-0.007849</td>\n",
       "    </tr>\n",
       "    <tr>\n",
       "      <th>spa</th>\n",
       "      <td>0.120946</td>\n",
       "      <td>0.009244</td>\n",
       "      <td>0.221468</td>\n",
       "      <td>0.014542</td>\n",
       "      <td>1.000000</td>\n",
       "      <td>0.147658</td>\n",
       "    </tr>\n",
       "    <tr>\n",
       "      <th>vr_deck</th>\n",
       "      <td>0.099590</td>\n",
       "      <td>-0.018624</td>\n",
       "      <td>0.224572</td>\n",
       "      <td>-0.007849</td>\n",
       "      <td>0.147658</td>\n",
       "      <td>1.000000</td>\n",
       "    </tr>\n",
       "  </tbody>\n",
       "</table>\n",
       "</div>"
      ],
      "text/plain": [
       "                    age  room_service  food_court  shopping_mall       spa  \\\n",
       "age            1.000000      0.068629    0.127390       0.033148  0.120946   \n",
       "room_service   0.068629      1.000000   -0.015126       0.052337  0.009244   \n",
       "food_court     0.127390     -0.015126    1.000000      -0.013717  0.221468   \n",
       "shopping_mall  0.033148      0.052337   -0.013717       1.000000  0.014542   \n",
       "spa            0.120946      0.009244    0.221468       0.014542  1.000000   \n",
       "vr_deck        0.099590     -0.018624    0.224572      -0.007849  0.147658   \n",
       "\n",
       "                vr_deck  \n",
       "age            0.099590  \n",
       "room_service  -0.018624  \n",
       "food_court     0.224572  \n",
       "shopping_mall -0.007849  \n",
       "spa            0.147658  \n",
       "vr_deck        1.000000  "
      ]
     },
     "execution_count": 11,
     "metadata": {},
     "output_type": "execute_result"
    }
   ],
   "source": [
    "train_data.corr()"
   ]
  },
  {
   "cell_type": "code",
   "execution_count": 12,
   "id": "cb979a9f",
   "metadata": {
    "execution": {
     "iopub.execute_input": "2022-10-17T14:37:24.177317Z",
     "iopub.status.busy": "2022-10-17T14:37:24.176831Z",
     "iopub.status.idle": "2022-10-17T14:37:24.199047Z",
     "shell.execute_reply": "2022-10-17T14:37:24.197903Z"
    },
    "papermill": {
     "duration": 0.038071,
     "end_time": "2022-10-17T14:37:24.201533",
     "exception": false,
     "start_time": "2022-10-17T14:37:24.163462",
     "status": "completed"
    },
    "tags": []
   },
   "outputs": [
    {
     "data": {
      "text/html": [
       "<div>\n",
       "<style scoped>\n",
       "    .dataframe tbody tr th:only-of-type {\n",
       "        vertical-align: middle;\n",
       "    }\n",
       "\n",
       "    .dataframe tbody tr th {\n",
       "        vertical-align: top;\n",
       "    }\n",
       "\n",
       "    .dataframe thead th {\n",
       "        text-align: right;\n",
       "    }\n",
       "</style>\n",
       "<table border=\"1\" class=\"dataframe\">\n",
       "  <thead>\n",
       "    <tr style=\"text-align: right;\">\n",
       "      <th></th>\n",
       "      <th>id</th>\n",
       "      <th>home_planet</th>\n",
       "      <th>cryo_sleep</th>\n",
       "      <th>cabin</th>\n",
       "      <th>destination</th>\n",
       "      <th>age</th>\n",
       "      <th>vip</th>\n",
       "      <th>room_service</th>\n",
       "      <th>food_court</th>\n",
       "      <th>shopping_mall</th>\n",
       "      <th>spa</th>\n",
       "      <th>vr_deck</th>\n",
       "      <th>name</th>\n",
       "      <th>transported</th>\n",
       "    </tr>\n",
       "  </thead>\n",
       "  <tbody>\n",
       "    <tr>\n",
       "      <th>0</th>\n",
       "      <td>0001_01</td>\n",
       "      <td>Europa</td>\n",
       "      <td>No</td>\n",
       "      <td>B/0/P</td>\n",
       "      <td>TRAPPIST-1e</td>\n",
       "      <td>39.0</td>\n",
       "      <td>No</td>\n",
       "      <td>0.0</td>\n",
       "      <td>0.0</td>\n",
       "      <td>0.0</td>\n",
       "      <td>0.0</td>\n",
       "      <td>0.0</td>\n",
       "      <td>Maham Ofracculy</td>\n",
       "      <td>No</td>\n",
       "    </tr>\n",
       "    <tr>\n",
       "      <th>1</th>\n",
       "      <td>0002_01</td>\n",
       "      <td>Earth</td>\n",
       "      <td>No</td>\n",
       "      <td>F/0/S</td>\n",
       "      <td>TRAPPIST-1e</td>\n",
       "      <td>24.0</td>\n",
       "      <td>No</td>\n",
       "      <td>109.0</td>\n",
       "      <td>9.0</td>\n",
       "      <td>25.0</td>\n",
       "      <td>549.0</td>\n",
       "      <td>44.0</td>\n",
       "      <td>Juanna Vines</td>\n",
       "      <td>Yes</td>\n",
       "    </tr>\n",
       "    <tr>\n",
       "      <th>2</th>\n",
       "      <td>0003_01</td>\n",
       "      <td>Europa</td>\n",
       "      <td>No</td>\n",
       "      <td>A/0/S</td>\n",
       "      <td>TRAPPIST-1e</td>\n",
       "      <td>58.0</td>\n",
       "      <td>Yes</td>\n",
       "      <td>43.0</td>\n",
       "      <td>3576.0</td>\n",
       "      <td>0.0</td>\n",
       "      <td>6715.0</td>\n",
       "      <td>49.0</td>\n",
       "      <td>Altark Susent</td>\n",
       "      <td>No</td>\n",
       "    </tr>\n",
       "    <tr>\n",
       "      <th>3</th>\n",
       "      <td>0003_02</td>\n",
       "      <td>Europa</td>\n",
       "      <td>No</td>\n",
       "      <td>A/0/S</td>\n",
       "      <td>TRAPPIST-1e</td>\n",
       "      <td>33.0</td>\n",
       "      <td>No</td>\n",
       "      <td>0.0</td>\n",
       "      <td>1283.0</td>\n",
       "      <td>371.0</td>\n",
       "      <td>3329.0</td>\n",
       "      <td>193.0</td>\n",
       "      <td>Solam Susent</td>\n",
       "      <td>No</td>\n",
       "    </tr>\n",
       "    <tr>\n",
       "      <th>4</th>\n",
       "      <td>0004_01</td>\n",
       "      <td>Earth</td>\n",
       "      <td>No</td>\n",
       "      <td>F/1/S</td>\n",
       "      <td>TRAPPIST-1e</td>\n",
       "      <td>16.0</td>\n",
       "      <td>No</td>\n",
       "      <td>303.0</td>\n",
       "      <td>70.0</td>\n",
       "      <td>151.0</td>\n",
       "      <td>565.0</td>\n",
       "      <td>2.0</td>\n",
       "      <td>Willy Santantines</td>\n",
       "      <td>Yes</td>\n",
       "    </tr>\n",
       "  </tbody>\n",
       "</table>\n",
       "</div>"
      ],
      "text/plain": [
       "        id home_planet cryo_sleep  cabin  destination   age  vip  \\\n",
       "0  0001_01      Europa         No  B/0/P  TRAPPIST-1e  39.0   No   \n",
       "1  0002_01       Earth         No  F/0/S  TRAPPIST-1e  24.0   No   \n",
       "2  0003_01      Europa         No  A/0/S  TRAPPIST-1e  58.0  Yes   \n",
       "3  0003_02      Europa         No  A/0/S  TRAPPIST-1e  33.0   No   \n",
       "4  0004_01       Earth         No  F/1/S  TRAPPIST-1e  16.0   No   \n",
       "\n",
       "   room_service  food_court  shopping_mall     spa  vr_deck  \\\n",
       "0           0.0         0.0            0.0     0.0      0.0   \n",
       "1         109.0         9.0           25.0   549.0     44.0   \n",
       "2          43.0      3576.0            0.0  6715.0     49.0   \n",
       "3           0.0      1283.0          371.0  3329.0    193.0   \n",
       "4         303.0        70.0          151.0   565.0      2.0   \n",
       "\n",
       "                name transported  \n",
       "0    Maham Ofracculy          No  \n",
       "1       Juanna Vines         Yes  \n",
       "2      Altark Susent          No  \n",
       "3       Solam Susent          No  \n",
       "4  Willy Santantines         Yes  "
      ]
     },
     "execution_count": 12,
     "metadata": {},
     "output_type": "execute_result"
    }
   ],
   "source": [
    "train_data.head()"
   ]
  },
  {
   "cell_type": "code",
   "execution_count": 13,
   "id": "d147256f",
   "metadata": {
    "execution": {
     "iopub.execute_input": "2022-10-17T14:37:24.227674Z",
     "iopub.status.busy": "2022-10-17T14:37:24.227261Z",
     "iopub.status.idle": "2022-10-17T14:37:24.235068Z",
     "shell.execute_reply": "2022-10-17T14:37:24.233809Z"
    },
    "papermill": {
     "duration": 0.023788,
     "end_time": "2022-10-17T14:37:24.237405",
     "exception": false,
     "start_time": "2022-10-17T14:37:24.213617",
     "status": "completed"
    },
    "tags": []
   },
   "outputs": [],
   "source": [
    "def outlier_detection_train(df, n, columns):\n",
    "    rows = []\n",
    "    will_drop_train = []\n",
    "    for col in columns:\n",
    "        Q1 = np.nanpercentile(df[col], 25)\n",
    "        Q3 = np.nanpercentile(df[col], 75)\n",
    "        IQR = Q3 - Q1\n",
    "        outlier_point = 1.5 * IQR\n",
    "        rows.extend(df[(df[col] < Q1 - outlier_point)|(df[col] > Q3 + outlier_point)].index)\n",
    "    for r, c in Counter(rows).items():\n",
    "        if c >= n: will_drop_train.append(r)\n",
    "    return will_drop_train"
   ]
  },
  {
   "cell_type": "code",
   "execution_count": 14,
   "id": "9401cec5",
   "metadata": {
    "execution": {
     "iopub.execute_input": "2022-10-17T14:37:24.263775Z",
     "iopub.status.busy": "2022-10-17T14:37:24.263344Z",
     "iopub.status.idle": "2022-10-17T14:37:24.287782Z",
     "shell.execute_reply": "2022-10-17T14:37:24.286479Z"
    },
    "papermill": {
     "duration": 0.040998,
     "end_time": "2022-10-17T14:37:24.290684",
     "exception": false,
     "start_time": "2022-10-17T14:37:24.249686",
     "status": "completed"
    },
    "tags": []
   },
   "outputs": [],
   "source": [
    "will_drop_train = outlier_detection_train(train_data, 5 ,train_data.select_dtypes([\"float\", \"int\"]).columns)\n",
    "train_data.drop(will_drop_train, inplace = True, axis = 0)"
   ]
  },
  {
   "cell_type": "code",
   "execution_count": 15,
   "id": "0eff7c82",
   "metadata": {
    "execution": {
     "iopub.execute_input": "2022-10-17T14:37:24.316740Z",
     "iopub.status.busy": "2022-10-17T14:37:24.316313Z",
     "iopub.status.idle": "2022-10-17T14:37:24.339623Z",
     "shell.execute_reply": "2022-10-17T14:37:24.338676Z"
    },
    "papermill": {
     "duration": 0.039493,
     "end_time": "2022-10-17T14:37:24.342319",
     "exception": false,
     "start_time": "2022-10-17T14:37:24.302826",
     "status": "completed"
    },
    "tags": []
   },
   "outputs": [],
   "source": [
    "# Create 'deck' and 'side' features from 'cabin' column\n",
    "\n",
    "train_data[\"deck\"] = train_data[\"cabin\"].apply(lambda x:str(x).split(\"/\")[0])\n",
    "test_data['deck'] = test_data['cabin'].apply(lambda x:str(x).split('/')[0])\n",
    "\n",
    "train_data[\"side\"] = train_data[\"cabin\"].apply(lambda x: x.split(\"/\")[2])\n",
    "test_data[\"side\"] = test_data[\"cabin\"].apply(lambda x: x.split(\"/\")[2])"
   ]
  },
  {
   "cell_type": "code",
   "execution_count": 16,
   "id": "99afd798",
   "metadata": {
    "execution": {
     "iopub.execute_input": "2022-10-17T14:37:24.369683Z",
     "iopub.status.busy": "2022-10-17T14:37:24.368626Z",
     "iopub.status.idle": "2022-10-17T14:37:24.383809Z",
     "shell.execute_reply": "2022-10-17T14:37:24.382967Z"
    },
    "papermill": {
     "duration": 0.031662,
     "end_time": "2022-10-17T14:37:24.386230",
     "exception": false,
     "start_time": "2022-10-17T14:37:24.354568",
     "status": "completed"
    },
    "tags": []
   },
   "outputs": [],
   "source": [
    "# Financial situation of passengers\n",
    "\n",
    "train_data[\"total_bill\"] = train_data[\"room_service\"] + train_data[\"food_court\"] + train_data[\"shopping_mall\"] + train_data[\"spa\"] + train_data[\"vr_deck\"] \n",
    "train_data[\"financial_situation\"] = train_data[\"total_bill\"].apply(lambda x: \"poor\" if x < 5000 else (\"middle\" if x>5000 and x<20000 else \"rich\"))\n",
    "\n",
    "test_data[\"total_bill\"] = test_data[\"room_service\"] + test_data[\"food_court\"] + test_data[\"shopping_mall\"] + test_data[\"spa\"] + test_data[\"vr_deck\"] \n",
    "test_data[\"financial_situation\"] = test_data[\"total_bill\"].apply(lambda x: \"poor\" if x < 5000 else (\"middle\" if x>5000 and x<20000 else \"rich\"))"
   ]
  },
  {
   "cell_type": "code",
   "execution_count": 17,
   "id": "6e210219",
   "metadata": {
    "execution": {
     "iopub.execute_input": "2022-10-17T14:37:24.413263Z",
     "iopub.status.busy": "2022-10-17T14:37:24.412248Z",
     "iopub.status.idle": "2022-10-17T14:37:25.113272Z",
     "shell.execute_reply": "2022-10-17T14:37:25.111792Z"
    },
    "papermill": {
     "duration": 0.717416,
     "end_time": "2022-10-17T14:37:25.116002",
     "exception": false,
     "start_time": "2022-10-17T14:37:24.398586",
     "status": "completed"
    },
    "tags": []
   },
   "outputs": [],
   "source": [
    "# create new feature ('in_group') from \"PassengerID\" variable\n",
    "\n",
    "train_data[\"group_id\"] = train_data[\"id\"].apply(lambda x: x.split(\"_\")[0])\n",
    "test_data[\"group_id\"] = test_data[\"id\"].apply(lambda x: x.split(\"_\")[0])\n",
    "train_data[\"group_number\"] = train_data[\"id\"].apply(lambda x: x.split(\"_\")[1])\n",
    "test_data[\"group_number\"] = test_data[\"id\"].apply(lambda x: x.split(\"_\")[1])\n",
    "\n",
    "train_g = train_data[train_data[\"group_id\"].duplicated()][\"group_id\"]\n",
    "test_g = test_data[test_data[\"group_id\"].duplicated()][\"group_id\"]\n",
    "train_data[\"in_group\"] = train_data[\"group_id\"].apply(lambda x: x in train_g.values)\n",
    "test_data[\"in_group\"] = test_data[\"group_id\"].apply(lambda x: x in test_g.values)"
   ]
  },
  {
   "cell_type": "code",
   "execution_count": 18,
   "id": "d2e778e8",
   "metadata": {
    "execution": {
     "iopub.execute_input": "2022-10-17T14:37:25.148195Z",
     "iopub.status.busy": "2022-10-17T14:37:25.146848Z",
     "iopub.status.idle": "2022-10-17T14:37:25.159342Z",
     "shell.execute_reply": "2022-10-17T14:37:25.157818Z"
    },
    "papermill": {
     "duration": 0.034696,
     "end_time": "2022-10-17T14:37:25.162905",
     "exception": false,
     "start_time": "2022-10-17T14:37:25.128209",
     "status": "completed"
    },
    "tags": []
   },
   "outputs": [],
   "source": [
    "# FOR TRAIN_DATA\n",
    "\n",
    "# get names from the 'name' columns of train_data\n",
    "\n",
    "names_train_data = []\n",
    "for n in train_data[\"name\"]:\n",
    "    a = n.split()\n",
    "    names_train_data.append(a[0])"
   ]
  },
  {
   "cell_type": "code",
   "execution_count": 19,
   "id": "203224f4",
   "metadata": {
    "execution": {
     "iopub.execute_input": "2022-10-17T14:37:25.199227Z",
     "iopub.status.busy": "2022-10-17T14:37:25.198683Z",
     "iopub.status.idle": "2022-10-17T14:37:25.204505Z",
     "shell.execute_reply": "2022-10-17T14:37:25.203453Z"
    },
    "papermill": {
     "duration": 0.023797,
     "end_time": "2022-10-17T14:37:25.206696",
     "exception": false,
     "start_time": "2022-10-17T14:37:25.182899",
     "status": "completed"
    },
    "tags": []
   },
   "outputs": [],
   "source": [
    "# define function to get last words from the name\n",
    "\n",
    "def gender_features(word):\n",
    "    return {'last_letter': word[-1]}"
   ]
  },
  {
   "cell_type": "code",
   "execution_count": 20,
   "id": "dc38d546",
   "metadata": {
    "execution": {
     "iopub.execute_input": "2022-10-17T14:37:25.234762Z",
     "iopub.status.busy": "2022-10-17T14:37:25.233933Z",
     "iopub.status.idle": "2022-10-17T14:37:25.266410Z",
     "shell.execute_reply": "2022-10-17T14:37:25.265220Z"
    },
    "papermill": {
     "duration": 0.050198,
     "end_time": "2022-10-17T14:37:25.269616",
     "exception": false,
     "start_time": "2022-10-17T14:37:25.219418",
     "status": "completed"
    },
    "tags": []
   },
   "outputs": [],
   "source": [
    "labeled_names = [(name, \"female\") for name in names.words(\"female.txt\")] + [(name, \"male\") for name in names.words(\"male.txt\")]\n",
    "random.shuffle(labeled_names)"
   ]
  },
  {
   "cell_type": "code",
   "execution_count": 21,
   "id": "00b115a3",
   "metadata": {
    "execution": {
     "iopub.execute_input": "2022-10-17T14:37:25.296742Z",
     "iopub.status.busy": "2022-10-17T14:37:25.296226Z",
     "iopub.status.idle": "2022-10-17T14:37:25.329754Z",
     "shell.execute_reply": "2022-10-17T14:37:25.328456Z"
    },
    "papermill": {
     "duration": 0.051821,
     "end_time": "2022-10-17T14:37:25.334232",
     "exception": false,
     "start_time": "2022-10-17T14:37:25.282411",
     "status": "completed"
    },
    "tags": []
   },
   "outputs": [],
   "source": [
    "# use \"gender_features\" function to extract the features\n",
    "\n",
    "featuresets = [(gender_features(n), gender) for (n, gender) in labeled_names]\n",
    "classifier = NaiveBayesClassifier.train(featuresets)"
   ]
  },
  {
   "cell_type": "code",
   "execution_count": 22,
   "id": "aac63400",
   "metadata": {
    "execution": {
     "iopub.execute_input": "2022-10-17T14:37:25.361313Z",
     "iopub.status.busy": "2022-10-17T14:37:25.360340Z",
     "iopub.status.idle": "2022-10-17T14:37:25.485608Z",
     "shell.execute_reply": "2022-10-17T14:37:25.484407Z"
    },
    "papermill": {
     "duration": 0.141689,
     "end_time": "2022-10-17T14:37:25.488521",
     "exception": false,
     "start_time": "2022-10-17T14:37:25.346832",
     "status": "completed"
    },
    "tags": []
   },
   "outputs": [],
   "source": [
    "names_gender = []\n",
    "for i in names_train_data:\n",
    "    names_gender.append(classifier.classify(gender_features(i)))\n",
    "\n",
    "# create new column called 'gender'    \n",
    "train_data[\"gender\"] = names_gender\n"
   ]
  },
  {
   "cell_type": "code",
   "execution_count": 23,
   "id": "4e539c4d",
   "metadata": {
    "execution": {
     "iopub.execute_input": "2022-10-17T14:37:25.514857Z",
     "iopub.status.busy": "2022-10-17T14:37:25.514436Z",
     "iopub.status.idle": "2022-10-17T14:37:25.523697Z",
     "shell.execute_reply": "2022-10-17T14:37:25.522465Z"
    },
    "papermill": {
     "duration": 0.025322,
     "end_time": "2022-10-17T14:37:25.526213",
     "exception": false,
     "start_time": "2022-10-17T14:37:25.500891",
     "status": "completed"
    },
    "tags": []
   },
   "outputs": [],
   "source": [
    "# FOR TEST_DATA\n",
    "\n",
    "\n",
    "# get names from the 'name' columns of test_data\n",
    "\n",
    "names_test_data = []\n",
    "for n in test_data[\"name\"]:\n",
    "    a = n.split()\n",
    "    names_test_data.append(a[0])"
   ]
  },
  {
   "cell_type": "code",
   "execution_count": 24,
   "id": "5e796edc",
   "metadata": {
    "execution": {
     "iopub.execute_input": "2022-10-17T14:37:25.552009Z",
     "iopub.status.busy": "2022-10-17T14:37:25.551594Z",
     "iopub.status.idle": "2022-10-17T14:37:25.575021Z",
     "shell.execute_reply": "2022-10-17T14:37:25.573998Z"
    },
    "papermill": {
     "duration": 0.039515,
     "end_time": "2022-10-17T14:37:25.577812",
     "exception": false,
     "start_time": "2022-10-17T14:37:25.538297",
     "status": "completed"
    },
    "tags": []
   },
   "outputs": [],
   "source": [
    "labeled_names = [(name, \"male\") for name in names.words(\"male.txt\")] + [(name, \"female\") for name in names.words(\"female.txt\")]\n",
    "random.shuffle(labeled_names)"
   ]
  },
  {
   "cell_type": "code",
   "execution_count": 25,
   "id": "76769816",
   "metadata": {
    "execution": {
     "iopub.execute_input": "2022-10-17T14:37:25.603555Z",
     "iopub.status.busy": "2022-10-17T14:37:25.603077Z",
     "iopub.status.idle": "2022-10-17T14:37:25.635598Z",
     "shell.execute_reply": "2022-10-17T14:37:25.634280Z"
    },
    "papermill": {
     "duration": 0.048914,
     "end_time": "2022-10-17T14:37:25.638720",
     "exception": false,
     "start_time": "2022-10-17T14:37:25.589806",
     "status": "completed"
    },
    "tags": []
   },
   "outputs": [],
   "source": [
    "# use \"gender_features\" function to extract the features\n",
    "featuresets = [(gender_features(n), gender) for (n, gender) in labeled_names]\n",
    "classifier = NaiveBayesClassifier.train(featuresets)"
   ]
  },
  {
   "cell_type": "code",
   "execution_count": 26,
   "id": "e61868df",
   "metadata": {
    "execution": {
     "iopub.execute_input": "2022-10-17T14:37:25.671297Z",
     "iopub.status.busy": "2022-10-17T14:37:25.669832Z",
     "iopub.status.idle": "2022-10-17T14:37:25.743577Z",
     "shell.execute_reply": "2022-10-17T14:37:25.742645Z"
    },
    "papermill": {
     "duration": 0.089935,
     "end_time": "2022-10-17T14:37:25.746387",
     "exception": false,
     "start_time": "2022-10-17T14:37:25.656452",
     "status": "completed"
    },
    "tags": []
   },
   "outputs": [],
   "source": [
    "names_gender = []\n",
    "for i in names_test_data:\n",
    "    names_gender.append(classifier.classify(gender_features(i)))\n",
    "    \n",
    "# create new column called 'gender'    \n",
    "test_data[\"gender\"] = names_gender"
   ]
  },
  {
   "cell_type": "code",
   "execution_count": 27,
   "id": "fb03b1f3",
   "metadata": {
    "execution": {
     "iopub.execute_input": "2022-10-17T14:37:25.773552Z",
     "iopub.status.busy": "2022-10-17T14:37:25.772539Z",
     "iopub.status.idle": "2022-10-17T14:37:25.808696Z",
     "shell.execute_reply": "2022-10-17T14:37:25.807809Z"
    },
    "papermill": {
     "duration": 0.052533,
     "end_time": "2022-10-17T14:37:25.811435",
     "exception": false,
     "start_time": "2022-10-17T14:37:25.758902",
     "status": "completed"
    },
    "tags": []
   },
   "outputs": [],
   "source": [
    "# Encoding the variables of train dataset\n",
    "lbe = LabelEncoder()\n",
    "lbe.fit_transform(train_data[\"transported\"])\n",
    "train_data[\"transported\"] = lbe.fit_transform(train_data[\"transported\"])\n",
    "\n",
    "y = train_data[\"transported\"]\n",
    "\n",
    "train_data = train_data.drop([\"id\", \"name\", \"cabin\", \"total_bill\", \"group_id\", \"group_number\", \"transported\"], axis = 1)\n",
    "x = pd.get_dummies(train_data, drop_first = True)"
   ]
  },
  {
   "cell_type": "code",
   "execution_count": 28,
   "id": "6e81d36f",
   "metadata": {
    "execution": {
     "iopub.execute_input": "2022-10-17T14:37:25.836983Z",
     "iopub.status.busy": "2022-10-17T14:37:25.836245Z",
     "iopub.status.idle": "2022-10-17T14:37:25.843015Z",
     "shell.execute_reply": "2022-10-17T14:37:25.841453Z"
    },
    "papermill": {
     "duration": 0.02223,
     "end_time": "2022-10-17T14:37:25.845266",
     "exception": false,
     "start_time": "2022-10-17T14:37:25.823036",
     "status": "completed"
    },
    "tags": []
   },
   "outputs": [
    {
     "name": "stdout",
     "output_type": "stream",
     "text": [
      "(8678, 24)\n",
      "(8678,)\n"
     ]
    }
   ],
   "source": [
    "print(x.shape)\n",
    "print(y.shape)"
   ]
  },
  {
   "cell_type": "code",
   "execution_count": 29,
   "id": "33724907",
   "metadata": {
    "execution": {
     "iopub.execute_input": "2022-10-17T14:37:25.871227Z",
     "iopub.status.busy": "2022-10-17T14:37:25.869999Z",
     "iopub.status.idle": "2022-10-17T14:37:25.895430Z",
     "shell.execute_reply": "2022-10-17T14:37:25.894293Z"
    },
    "papermill": {
     "duration": 0.041177,
     "end_time": "2022-10-17T14:37:25.898162",
     "exception": false,
     "start_time": "2022-10-17T14:37:25.856985",
     "status": "completed"
    },
    "tags": []
   },
   "outputs": [
    {
     "data": {
      "text/html": [
       "<div>\n",
       "<style scoped>\n",
       "    .dataframe tbody tr th:only-of-type {\n",
       "        vertical-align: middle;\n",
       "    }\n",
       "\n",
       "    .dataframe tbody tr th {\n",
       "        vertical-align: top;\n",
       "    }\n",
       "\n",
       "    .dataframe thead th {\n",
       "        text-align: right;\n",
       "    }\n",
       "</style>\n",
       "<table border=\"1\" class=\"dataframe\">\n",
       "  <thead>\n",
       "    <tr style=\"text-align: right;\">\n",
       "      <th></th>\n",
       "      <th>age</th>\n",
       "      <th>room_service</th>\n",
       "      <th>food_court</th>\n",
       "      <th>shopping_mall</th>\n",
       "      <th>spa</th>\n",
       "      <th>vr_deck</th>\n",
       "      <th>in_group</th>\n",
       "      <th>home_planet_Europa</th>\n",
       "      <th>home_planet_Mars</th>\n",
       "      <th>cryo_sleep_Yes</th>\n",
       "      <th>...</th>\n",
       "      <th>deck_C</th>\n",
       "      <th>deck_D</th>\n",
       "      <th>deck_E</th>\n",
       "      <th>deck_F</th>\n",
       "      <th>deck_G</th>\n",
       "      <th>deck_T</th>\n",
       "      <th>side_S</th>\n",
       "      <th>financial_situation_poor</th>\n",
       "      <th>financial_situation_rich</th>\n",
       "      <th>gender_male</th>\n",
       "    </tr>\n",
       "  </thead>\n",
       "  <tbody>\n",
       "    <tr>\n",
       "      <th>0</th>\n",
       "      <td>39.0</td>\n",
       "      <td>0.0</td>\n",
       "      <td>0.0</td>\n",
       "      <td>0.0</td>\n",
       "      <td>0.0</td>\n",
       "      <td>0.0</td>\n",
       "      <td>False</td>\n",
       "      <td>1</td>\n",
       "      <td>0</td>\n",
       "      <td>0</td>\n",
       "      <td>...</td>\n",
       "      <td>0</td>\n",
       "      <td>0</td>\n",
       "      <td>0</td>\n",
       "      <td>0</td>\n",
       "      <td>0</td>\n",
       "      <td>0</td>\n",
       "      <td>0</td>\n",
       "      <td>1</td>\n",
       "      <td>0</td>\n",
       "      <td>1</td>\n",
       "    </tr>\n",
       "    <tr>\n",
       "      <th>1</th>\n",
       "      <td>24.0</td>\n",
       "      <td>109.0</td>\n",
       "      <td>9.0</td>\n",
       "      <td>25.0</td>\n",
       "      <td>549.0</td>\n",
       "      <td>44.0</td>\n",
       "      <td>False</td>\n",
       "      <td>0</td>\n",
       "      <td>0</td>\n",
       "      <td>0</td>\n",
       "      <td>...</td>\n",
       "      <td>0</td>\n",
       "      <td>0</td>\n",
       "      <td>0</td>\n",
       "      <td>1</td>\n",
       "      <td>0</td>\n",
       "      <td>0</td>\n",
       "      <td>1</td>\n",
       "      <td>1</td>\n",
       "      <td>0</td>\n",
       "      <td>0</td>\n",
       "    </tr>\n",
       "    <tr>\n",
       "      <th>2</th>\n",
       "      <td>58.0</td>\n",
       "      <td>43.0</td>\n",
       "      <td>3576.0</td>\n",
       "      <td>0.0</td>\n",
       "      <td>6715.0</td>\n",
       "      <td>49.0</td>\n",
       "      <td>True</td>\n",
       "      <td>1</td>\n",
       "      <td>0</td>\n",
       "      <td>0</td>\n",
       "      <td>...</td>\n",
       "      <td>0</td>\n",
       "      <td>0</td>\n",
       "      <td>0</td>\n",
       "      <td>0</td>\n",
       "      <td>0</td>\n",
       "      <td>0</td>\n",
       "      <td>1</td>\n",
       "      <td>0</td>\n",
       "      <td>0</td>\n",
       "      <td>1</td>\n",
       "    </tr>\n",
       "    <tr>\n",
       "      <th>3</th>\n",
       "      <td>33.0</td>\n",
       "      <td>0.0</td>\n",
       "      <td>1283.0</td>\n",
       "      <td>371.0</td>\n",
       "      <td>3329.0</td>\n",
       "      <td>193.0</td>\n",
       "      <td>True</td>\n",
       "      <td>1</td>\n",
       "      <td>0</td>\n",
       "      <td>0</td>\n",
       "      <td>...</td>\n",
       "      <td>0</td>\n",
       "      <td>0</td>\n",
       "      <td>0</td>\n",
       "      <td>0</td>\n",
       "      <td>0</td>\n",
       "      <td>0</td>\n",
       "      <td>1</td>\n",
       "      <td>0</td>\n",
       "      <td>0</td>\n",
       "      <td>1</td>\n",
       "    </tr>\n",
       "    <tr>\n",
       "      <th>4</th>\n",
       "      <td>16.0</td>\n",
       "      <td>303.0</td>\n",
       "      <td>70.0</td>\n",
       "      <td>151.0</td>\n",
       "      <td>565.0</td>\n",
       "      <td>2.0</td>\n",
       "      <td>False</td>\n",
       "      <td>0</td>\n",
       "      <td>0</td>\n",
       "      <td>0</td>\n",
       "      <td>...</td>\n",
       "      <td>0</td>\n",
       "      <td>0</td>\n",
       "      <td>0</td>\n",
       "      <td>1</td>\n",
       "      <td>0</td>\n",
       "      <td>0</td>\n",
       "      <td>1</td>\n",
       "      <td>1</td>\n",
       "      <td>0</td>\n",
       "      <td>0</td>\n",
       "    </tr>\n",
       "  </tbody>\n",
       "</table>\n",
       "<p>5 rows × 24 columns</p>\n",
       "</div>"
      ],
      "text/plain": [
       "    age  room_service  food_court  shopping_mall     spa  vr_deck  in_group  \\\n",
       "0  39.0           0.0         0.0            0.0     0.0      0.0     False   \n",
       "1  24.0         109.0         9.0           25.0   549.0     44.0     False   \n",
       "2  58.0          43.0      3576.0            0.0  6715.0     49.0      True   \n",
       "3  33.0           0.0      1283.0          371.0  3329.0    193.0      True   \n",
       "4  16.0         303.0        70.0          151.0   565.0      2.0     False   \n",
       "\n",
       "   home_planet_Europa  home_planet_Mars  cryo_sleep_Yes  ...  deck_C  deck_D  \\\n",
       "0                   1                 0               0  ...       0       0   \n",
       "1                   0                 0               0  ...       0       0   \n",
       "2                   1                 0               0  ...       0       0   \n",
       "3                   1                 0               0  ...       0       0   \n",
       "4                   0                 0               0  ...       0       0   \n",
       "\n",
       "   deck_E  deck_F  deck_G  deck_T  side_S  financial_situation_poor  \\\n",
       "0       0       0       0       0       0                         1   \n",
       "1       0       1       0       0       1                         1   \n",
       "2       0       0       0       0       1                         0   \n",
       "3       0       0       0       0       1                         0   \n",
       "4       0       1       0       0       1                         1   \n",
       "\n",
       "   financial_situation_rich  gender_male  \n",
       "0                         0            1  \n",
       "1                         0            0  \n",
       "2                         0            1  \n",
       "3                         0            1  \n",
       "4                         0            0  \n",
       "\n",
       "[5 rows x 24 columns]"
      ]
     },
     "execution_count": 29,
     "metadata": {},
     "output_type": "execute_result"
    }
   ],
   "source": [
    "x.head()"
   ]
  },
  {
   "cell_type": "code",
   "execution_count": 30,
   "id": "5da3d318",
   "metadata": {
    "execution": {
     "iopub.execute_input": "2022-10-17T14:37:25.924914Z",
     "iopub.status.busy": "2022-10-17T14:37:25.923908Z",
     "iopub.status.idle": "2022-10-17T14:37:25.931915Z",
     "shell.execute_reply": "2022-10-17T14:37:25.930846Z"
    },
    "papermill": {
     "duration": 0.023784,
     "end_time": "2022-10-17T14:37:25.934217",
     "exception": false,
     "start_time": "2022-10-17T14:37:25.910433",
     "status": "completed"
    },
    "tags": []
   },
   "outputs": [
    {
     "data": {
      "text/plain": [
       "0    0\n",
       "1    1\n",
       "2    0\n",
       "3    0\n",
       "4    1\n",
       "Name: transported, dtype: int64"
      ]
     },
     "execution_count": 30,
     "metadata": {},
     "output_type": "execute_result"
    }
   ],
   "source": [
    "y.head()"
   ]
  },
  {
   "cell_type": "code",
   "execution_count": 31,
   "id": "78a94041",
   "metadata": {
    "execution": {
     "iopub.execute_input": "2022-10-17T14:37:25.961558Z",
     "iopub.status.busy": "2022-10-17T14:37:25.960938Z",
     "iopub.status.idle": "2022-10-17T14:37:25.973131Z",
     "shell.execute_reply": "2022-10-17T14:37:25.971815Z"
    },
    "papermill": {
     "duration": 0.029477,
     "end_time": "2022-10-17T14:37:25.976172",
     "exception": false,
     "start_time": "2022-10-17T14:37:25.946695",
     "status": "completed"
    },
    "tags": []
   },
   "outputs": [
    {
     "name": "stdout",
     "output_type": "stream",
     "text": [
      "(7810, 24)\n",
      "(868, 24)\n"
     ]
    }
   ],
   "source": [
    "# Splitting the train dataset into x_train (y_train) and x_test (y_test) sets\n",
    "\n",
    "x_train, x_test, y_train, y_test = train_test_split(x, y,\n",
    "                                                    test_size = 0.10,\n",
    "                                                    shuffle = True,\n",
    "                                                    random_state = 1)\n",
    "print(x_train.shape)\n",
    "print(x_test.shape)"
   ]
  },
  {
   "cell_type": "code",
   "execution_count": 32,
   "id": "ae56ed50",
   "metadata": {
    "execution": {
     "iopub.execute_input": "2022-10-17T14:37:26.005358Z",
     "iopub.status.busy": "2022-10-17T14:37:26.004865Z",
     "iopub.status.idle": "2022-10-17T14:37:26.056861Z",
     "shell.execute_reply": "2022-10-17T14:37:26.055963Z"
    },
    "papermill": {
     "duration": 0.069001,
     "end_time": "2022-10-17T14:37:26.059418",
     "exception": false,
     "start_time": "2022-10-17T14:37:25.990417",
     "status": "completed"
    },
    "tags": []
   },
   "outputs": [],
   "source": [
    "scaler = StandardScaler()\n",
    "scaler.fit(x_train)\n",
    "x_train = scaler.transform(x_train)\n",
    "x_test = scaler.transform(x_test)"
   ]
  },
  {
   "cell_type": "code",
   "execution_count": 33,
   "id": "2ad03586",
   "metadata": {
    "execution": {
     "iopub.execute_input": "2022-10-17T14:37:26.086486Z",
     "iopub.status.busy": "2022-10-17T14:37:26.085763Z",
     "iopub.status.idle": "2022-10-17T14:37:26.092691Z",
     "shell.execute_reply": "2022-10-17T14:37:26.091956Z"
    },
    "papermill": {
     "duration": 0.022737,
     "end_time": "2022-10-17T14:37:26.094683",
     "exception": false,
     "start_time": "2022-10-17T14:37:26.071946",
     "status": "completed"
    },
    "tags": []
   },
   "outputs": [
    {
     "data": {
      "text/plain": [
       "'\\n\\nxgbc = XGBClassifier()\\n\\nxgbc_params = {\\n        \"gamma\": [0.5, 1, 1.5],\\n        \"subsample\": [0.6, 0.8, 1.0],\\n        \"colsample_bytree\": [0.6, 0.8, 1.0],\\n        \"max_depth\": [3, 4, 5],\\n        \"n_estimators\": [100, 130, 150]\\n}\\n\\nxgbc_cv_model = GridSearchCV(xgbc, xgbc_params, cv = 10, n_jobs = -1)\\nxgbc_cv_model.fit(x_train, y_train)\\n\\nprint(\"Best hyperparametres of the model: \\n\", xgbc_cv_model.best_params_)\\n'"
      ]
     },
     "execution_count": 33,
     "metadata": {},
     "output_type": "execute_result"
    }
   ],
   "source": [
    "#  XTREME GRADIENT BOOSTING (XGB)\n",
    "# Build XGBoost model and search best hyperparameters with GridSearchCV method\n",
    "\n",
    "'''\n",
    "\n",
    "xgbc = XGBClassifier()\n",
    "\n",
    "xgbc_params = {\n",
    "        \"gamma\": [0.5, 1, 1.5],\n",
    "        \"subsample\": [0.6, 0.8, 1.0],\n",
    "        \"colsample_bytree\": [0.6, 0.8, 1.0],\n",
    "        \"max_depth\": [3, 4, 5],\n",
    "        \"n_estimators\": [100, 130, 150]\n",
    "}\n",
    "\n",
    "xgbc_cv_model = GridSearchCV(xgbc, xgbc_params, cv = 10, n_jobs = -1)\n",
    "xgbc_cv_model.fit(x_train, y_train)\n",
    "\n",
    "print(\"Best hyperparametres of the model: \\n\", xgbc_cv_model.best_params_)\n",
    "'''"
   ]
  },
  {
   "cell_type": "code",
   "execution_count": 34,
   "id": "31d814b2",
   "metadata": {
    "execution": {
     "iopub.execute_input": "2022-10-17T14:37:26.121337Z",
     "iopub.status.busy": "2022-10-17T14:37:26.120682Z",
     "iopub.status.idle": "2022-10-17T14:37:26.973768Z",
     "shell.execute_reply": "2022-10-17T14:37:26.972704Z"
    },
    "papermill": {
     "duration": 0.869852,
     "end_time": "2022-10-17T14:37:26.976638",
     "exception": false,
     "start_time": "2022-10-17T14:37:26.106786",
     "status": "completed"
    },
    "tags": []
   },
   "outputs": [],
   "source": [
    "# Build XGB model with best hyperparameters\n",
    "# get these hyperparameters with GridSearchCV method above\n",
    "\n",
    "xgbc_tuned = XGBClassifier(gamma = 1.5,\n",
    "                           subsample = 1.0,\n",
    "                           max_depth = 5,\n",
    "                           colsample_bytree = 1.0,\n",
    "                           n_estimators = 100)\n",
    "xgbc_tuned = xgbc_tuned.fit(x_train, y_train)"
   ]
  },
  {
   "cell_type": "code",
   "execution_count": 35,
   "id": "d3713145",
   "metadata": {
    "execution": {
     "iopub.execute_input": "2022-10-17T14:37:27.005712Z",
     "iopub.status.busy": "2022-10-17T14:37:27.004691Z",
     "iopub.status.idle": "2022-10-17T14:37:27.018322Z",
     "shell.execute_reply": "2022-10-17T14:37:27.017352Z"
    },
    "papermill": {
     "duration": 0.029809,
     "end_time": "2022-10-17T14:37:27.020883",
     "exception": false,
     "start_time": "2022-10-17T14:37:26.991074",
     "status": "completed"
    },
    "tags": []
   },
   "outputs": [
    {
     "data": {
      "text/plain": [
       "0.815668202764977"
      ]
     },
     "execution_count": 35,
     "metadata": {},
     "output_type": "execute_result"
    }
   ],
   "source": [
    "# Make initial prediction\n",
    "y_pred = xgbc_tuned.predict(x_test)\n",
    "accuracy_score(y_test, y_pred)"
   ]
  },
  {
   "cell_type": "code",
   "execution_count": 36,
   "id": "f57b173b",
   "metadata": {
    "execution": {
     "iopub.execute_input": "2022-10-17T14:37:27.049763Z",
     "iopub.status.busy": "2022-10-17T14:37:27.049365Z",
     "iopub.status.idle": "2022-10-17T14:37:27.061529Z",
     "shell.execute_reply": "2022-10-17T14:37:27.059775Z"
    },
    "papermill": {
     "duration": 0.028256,
     "end_time": "2022-10-17T14:37:27.063920",
     "exception": false,
     "start_time": "2022-10-17T14:37:27.035664",
     "status": "completed"
    },
    "tags": []
   },
   "outputs": [
    {
     "name": "stdout",
     "output_type": "stream",
     "text": [
      "              precision    recall  f1-score   support\n",
      "\n",
      "           0       0.82      0.81      0.82       436\n",
      "           1       0.81      0.82      0.82       432\n",
      "\n",
      "    accuracy                           0.82       868\n",
      "   macro avg       0.82      0.82      0.82       868\n",
      "weighted avg       0.82      0.82      0.82       868\n",
      "\n"
     ]
    }
   ],
   "source": [
    "# Classification report\n",
    "print(classification_report(y_test, y_pred))"
   ]
  },
  {
   "cell_type": "code",
   "execution_count": 37,
   "id": "a9e3ba52",
   "metadata": {
    "execution": {
     "iopub.execute_input": "2022-10-17T14:37:27.091315Z",
     "iopub.status.busy": "2022-10-17T14:37:27.090541Z",
     "iopub.status.idle": "2022-10-17T14:37:27.281645Z",
     "shell.execute_reply": "2022-10-17T14:37:27.280336Z"
    },
    "papermill": {
     "duration": 0.207592,
     "end_time": "2022-10-17T14:37:27.284146",
     "exception": false,
     "start_time": "2022-10-17T14:37:27.076554",
     "status": "completed"
    },
    "tags": []
   },
   "outputs": [
    {
     "data": {
      "image/png": "[encoded data removed]",
      "text/plain": [
       "<Figure size 432x288 with 1 Axes>"
      ]
     },
     "metadata": {
      "needs_background": "light"
     },
     "output_type": "display_data"
    }
   ],
   "source": [
    "# ROC AUC\n",
    "xgb_roc_auc = roc_auc_score(y_test, xgbc_tuned.predict(x_test))\n",
    "fpr, tpr, thresholds = roc_curve(y_test, xgbc_tuned.predict_proba(x_test)[:,1])\n",
    "\n",
    "plt.figure()\n",
    "plt.plot(fpr, tpr, label = 'AUC (area = %0.2f)' % xgb_roc_auc)\n",
    "plt.plot([0, 1], [0, 1],'g--')\n",
    "plt.xlim([0.0, 1.0])\n",
    "plt.ylim([0.0, 1.05])\n",
    "plt.xlabel('False Positive Rate')\n",
    "plt.ylabel('True Positive Rate')\n",
    "plt.title('ROC AUC')\n",
    "plt.show()"
   ]
  },
  {
   "cell_type": "code",
   "execution_count": 38,
   "id": "bc4e5ad7",
   "metadata": {
    "execution": {
     "iopub.execute_input": "2022-10-17T14:37:27.312544Z",
     "iopub.status.busy": "2022-10-17T14:37:27.312092Z",
     "iopub.status.idle": "2022-10-17T14:37:28.082546Z",
     "shell.execute_reply": "2022-10-17T14:37:28.081587Z"
    },
    "papermill": {
     "duration": 0.78775,
     "end_time": "2022-10-17T14:37:28.085267",
     "exception": false,
     "start_time": "2022-10-17T14:37:27.297517",
     "status": "completed"
    },
    "tags": []
   },
   "outputs": [],
   "source": [
    "# Build model with full data\n",
    "xgbc_model_full = XGBClassifier(gamma = 1.5,\n",
    "                           subsample = 1.0,\n",
    "                           max_depth = 5,\n",
    "                           colsample_bytree = 1.0,\n",
    "                           n_estimators = 100)\n",
    "xgbc_model_full = xgbc_model_full.fit(x, y)"
   ]
  },
  {
   "cell_type": "markdown",
   "id": "95a20c3a",
   "metadata": {
    "papermill": {
     "duration": 0.012623,
     "end_time": "2022-10-17T14:37:28.112724",
     "exception": false,
     "start_time": "2022-10-17T14:37:28.100101",
     "status": "completed"
    },
    "tags": []
   },
   "source": [
    "**SUBMISSION PROCESS (on test.csv)**"
   ]
  },
  {
   "cell_type": "code",
   "execution_count": 39,
   "id": "1d597496",
   "metadata": {
    "execution": {
     "iopub.execute_input": "2022-10-17T14:37:28.140291Z",
     "iopub.status.busy": "2022-10-17T14:37:28.139859Z",
     "iopub.status.idle": "2022-10-17T14:37:28.149883Z",
     "shell.execute_reply": "2022-10-17T14:37:28.148698Z"
    },
    "papermill": {
     "duration": 0.026615,
     "end_time": "2022-10-17T14:37:28.152156",
     "exception": false,
     "start_time": "2022-10-17T14:37:28.125541",
     "status": "completed"
    },
    "tags": []
   },
   "outputs": [],
   "source": [
    "# Change values of some variables\n",
    "test_data[\"vip\"] = test_data[\"vip\"].replace(to_replace = [False, True],\n",
    "                                  value = [\"No\", \"Yes\"]).astype(\"object\")\n",
    "test_data[\"cryo_sleep\"] = test_data[\"cryo_sleep\"].replace(to_replace = [False, True],\n",
    "                                  value = [\"No\", \"Yes\"]).astype(\"object\")"
   ]
  },
  {
   "cell_type": "code",
   "execution_count": 40,
   "id": "ca73a74d",
   "metadata": {
    "execution": {
     "iopub.execute_input": "2022-10-17T14:37:28.180025Z",
     "iopub.status.busy": "2022-10-17T14:37:28.179598Z",
     "iopub.status.idle": "2022-10-17T14:37:28.187689Z",
     "shell.execute_reply": "2022-10-17T14:37:28.186627Z"
    },
    "papermill": {
     "duration": 0.024734,
     "end_time": "2022-10-17T14:37:28.189922",
     "exception": false,
     "start_time": "2022-10-17T14:37:28.165188",
     "status": "completed"
    },
    "tags": []
   },
   "outputs": [
    {
     "data": {
      "text/plain": [
       "0    0013_01\n",
       "1    0018_01\n",
       "2    0019_01\n",
       "3    0021_01\n",
       "4    0023_01\n",
       "Name: id, dtype: object"
      ]
     },
     "execution_count": 40,
     "metadata": {},
     "output_type": "execute_result"
    }
   ],
   "source": [
    "# Keep outside 'id' variable\n",
    "PassengerID = test_data[\"id\"]\n",
    "PassengerID.head()\n"
   ]
  },
  {
   "cell_type": "code",
   "execution_count": 41,
   "id": "80ab8882",
   "metadata": {
    "execution": {
     "iopub.execute_input": "2022-10-17T14:37:28.217724Z",
     "iopub.status.busy": "2022-10-17T14:37:28.217307Z",
     "iopub.status.idle": "2022-10-17T14:37:28.240178Z",
     "shell.execute_reply": "2022-10-17T14:37:28.239018Z"
    },
    "papermill": {
     "duration": 0.039823,
     "end_time": "2022-10-17T14:37:28.242872",
     "exception": false,
     "start_time": "2022-10-17T14:37:28.203049",
     "status": "completed"
    },
    "tags": []
   },
   "outputs": [],
   "source": [
    "# One-hot encoding test_data\n",
    "test_data = test_data.drop([\"id\", \"total_bill\", \"cabin\", \"group_id\", \"group_number\", \"name\"], axis = 1)\n",
    "test_data = pd.get_dummies(test_data, drop_first = True)"
   ]
  },
  {
   "cell_type": "code",
   "execution_count": 42,
   "id": "11259abc",
   "metadata": {
    "execution": {
     "iopub.execute_input": "2022-10-17T14:37:28.272242Z",
     "iopub.status.busy": "2022-10-17T14:37:28.271774Z",
     "iopub.status.idle": "2022-10-17T14:37:28.299212Z",
     "shell.execute_reply": "2022-10-17T14:37:28.298181Z"
    },
    "papermill": {
     "duration": 0.045437,
     "end_time": "2022-10-17T14:37:28.302154",
     "exception": false,
     "start_time": "2022-10-17T14:37:28.256717",
     "status": "completed"
    },
    "tags": []
   },
   "outputs": [],
   "source": [
    "# Make prediction\n",
    "y_pred = pd.Series(xgbc_model_full.predict(test_data)).map({0:False, 1:True})"
   ]
  },
  {
   "cell_type": "code",
   "execution_count": 43,
   "id": "99b6ecce",
   "metadata": {
    "execution": {
     "iopub.execute_input": "2022-10-17T14:37:28.333228Z",
     "iopub.status.busy": "2022-10-17T14:37:28.332489Z",
     "iopub.status.idle": "2022-10-17T14:37:28.345167Z",
     "shell.execute_reply": "2022-10-17T14:37:28.344057Z"
    },
    "papermill": {
     "duration": 0.029744,
     "end_time": "2022-10-17T14:37:28.347543",
     "exception": false,
     "start_time": "2022-10-17T14:37:28.317799",
     "status": "completed"
    },
    "tags": []
   },
   "outputs": [
    {
     "data": {
      "text/html": [
       "<div>\n",
       "<style scoped>\n",
       "    .dataframe tbody tr th:only-of-type {\n",
       "        vertical-align: middle;\n",
       "    }\n",
       "\n",
       "    .dataframe tbody tr th {\n",
       "        vertical-align: top;\n",
       "    }\n",
       "\n",
       "    .dataframe thead th {\n",
       "        text-align: right;\n",
       "    }\n",
       "</style>\n",
       "<table border=\"1\" class=\"dataframe\">\n",
       "  <thead>\n",
       "    <tr style=\"text-align: right;\">\n",
       "      <th></th>\n",
       "      <th>PassengerId</th>\n",
       "      <th>Transported</th>\n",
       "    </tr>\n",
       "  </thead>\n",
       "  <tbody>\n",
       "    <tr>\n",
       "      <th>0</th>\n",
       "      <td>0013_01</td>\n",
       "      <td>True</td>\n",
       "    </tr>\n",
       "    <tr>\n",
       "      <th>1</th>\n",
       "      <td>0018_01</td>\n",
       "      <td>False</td>\n",
       "    </tr>\n",
       "    <tr>\n",
       "      <th>2</th>\n",
       "      <td>0019_01</td>\n",
       "      <td>True</td>\n",
       "    </tr>\n",
       "    <tr>\n",
       "      <th>3</th>\n",
       "      <td>0021_01</td>\n",
       "      <td>True</td>\n",
       "    </tr>\n",
       "    <tr>\n",
       "      <th>4</th>\n",
       "      <td>0023_01</td>\n",
       "      <td>True</td>\n",
       "    </tr>\n",
       "  </tbody>\n",
       "</table>\n",
       "</div>"
      ],
      "text/plain": [
       "  PassengerId  Transported\n",
       "0     0013_01         True\n",
       "1     0018_01        False\n",
       "2     0019_01         True\n",
       "3     0021_01         True\n",
       "4     0023_01         True"
      ]
     },
     "execution_count": 43,
     "metadata": {},
     "output_type": "execute_result"
    }
   ],
   "source": [
    "# Create submission file\n",
    "submission = pd.DataFrame({\"PassengerId\": PassengerID.values, \"Transported\": y_pred})\n",
    "submission.head()"
   ]
  },
  {
   "cell_type": "code",
   "execution_count": 44,
   "id": "bcbe726f",
   "metadata": {
    "execution": {
     "iopub.execute_input": "2022-10-17T14:37:28.376538Z",
     "iopub.status.busy": "2022-10-17T14:37:28.376070Z",
     "iopub.status.idle": "2022-10-17T14:37:28.396349Z",
     "shell.execute_reply": "2022-10-17T14:37:28.394719Z"
    },
    "papermill": {
     "duration": 0.037945,
     "end_time": "2022-10-17T14:37:28.398854",
     "exception": false,
     "start_time": "2022-10-17T14:37:28.360909",
     "status": "completed"
    },
    "tags": []
   },
   "outputs": [
    {
     "name": "stdout",
     "output_type": "stream",
     "text": [
      "My competition submission: \n",
      "\n",
      "      PassengerId  Transported\n",
      "0        0013_01         True\n",
      "1        0018_01        False\n",
      "2        0019_01         True\n",
      "3        0021_01         True\n",
      "4        0023_01         True\n",
      "...          ...          ...\n",
      "4272     9266_02         True\n",
      "4273     9269_01        False\n",
      "4274     9271_01         True\n",
      "4275     9273_01         True\n",
      "4276     9277_01         True\n",
      "\n",
      "[4277 rows x 2 columns]\n"
     ]
    },
    {
     "data": {
      "text/html": [
       "<a href='submission.csv' target='_blank'>submission.csv</a><br>"
      ],
      "text/plain": [
       "/kaggle/working/submission.csv"
      ]
     },
     "execution_count": 44,
     "metadata": {},
     "output_type": "execute_result"
    }
   ],
   "source": [
    "# Save submission file\n",
    "from IPython.display import FileLink\n",
    "submission.to_csv('submission.csv', index = False)\n",
    "print(\"My competition submission: \\n\\n\", submission)\n",
    "FileLink('submission.csv')"
   ]
  },
  {
   "cell_type": "code",
   "execution_count": null,
   "id": "a0ca4ec6",
   "metadata": {
    "papermill": {
     "duration": 0.012952,
     "end_time": "2022-10-17T14:37:28.425236",
     "exception": false,
     "start_time": "2022-10-17T14:37:28.412284",
     "status": "completed"
    },
    "tags": []
   },
   "outputs": [],
   "source": []
  },
  {
   "cell_type": "code",
   "execution_count": null,
   "id": "7f0c2149",
   "metadata": {
    "papermill": {
     "duration": 0.013016,
     "end_time": "2022-10-17T14:37:28.451447",
     "exception": false,
     "start_time": "2022-10-17T14:37:28.438431",
     "status": "completed"
    },
    "tags": []
   },
   "outputs": [],
   "source": []
  }
 ],
 "metadata": {
  "kernelspec": {
   "display_name": "Python 3",
   "language": "python",
   "name": "python3"
  },
  "language_info": {
   "codemirror_mode": {
    "name": "ipython",
    "version": 3
   },
   "file_extension": ".py",
   "mimetype": "text/x-python",
   "name": "python",
   "nbconvert_exporter": "python",
   "pygments_lexer": "ipython3",
   "version": "3.7.12"
  },
  "papermill": {
   "default_parameters": {},
   "duration": 17.77894,
   "end_time": "2022-10-17T14:37:29.589143",
   "environment_variables": {},
   "exception": null,
   "input_path": "__notebook__.ipynb",
   "output_path": "__notebook__.ipynb",
   "parameters": {},
   "start_time": "2022-10-17T14:37:11.810203",
   "version": "2.3.4"
  }
 },
 "nbformat": 4,
 "nbformat_minor": 5
}
